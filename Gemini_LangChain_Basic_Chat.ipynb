{
 "cells": [
  {
   "cell_type": "code",
   "execution_count": 5,
   "metadata": {},
   "outputs": [
    {
     "name": "stdout",
     "output_type": "stream",
     "text": [
      "Note: you may need to restart the kernel to use updated packages.\n"
     ]
    },
    {
     "name": "stderr",
     "output_type": "stream",
     "text": [
      "\n",
      "[notice] A new release of pip is available: 24.0 -> 24.1\n",
      "[notice] To update, run: python.exe -m pip install --upgrade pip\n"
     ]
    }
   ],
   "source": [
    "%pip install --quiet langchain-google-genai pillow"
   ]
  },
  {
   "cell_type": "code",
   "execution_count": 6,
   "metadata": {},
   "outputs": [
    {
     "name": "stdout",
     "output_type": "stream",
     "text": [
      "Requirement already satisfied: ipywidgets in c:\\users\\daniel\\appdata\\local\\programs\\python\\python312\\lib\\site-packages (8.1.3)\n",
      "Requirement already satisfied: comm>=0.1.3 in c:\\users\\daniel\\appdata\\roaming\\python\\python312\\site-packages (from ipywidgets) (0.2.2)\n",
      "Requirement already satisfied: ipython>=6.1.0 in c:\\users\\daniel\\appdata\\roaming\\python\\python312\\site-packages (from ipywidgets) (8.25.0)\n",
      "Requirement already satisfied: traitlets>=4.3.1 in c:\\users\\daniel\\appdata\\roaming\\python\\python312\\site-packages (from ipywidgets) (5.14.3)\n",
      "Requirement already satisfied: widgetsnbextension~=4.0.11 in c:\\users\\daniel\\appdata\\local\\programs\\python\\python312\\lib\\site-packages (from ipywidgets) (4.0.11)\n",
      "Requirement already satisfied: jupyterlab-widgets~=3.0.11 in c:\\users\\daniel\\appdata\\local\\programs\\python\\python312\\lib\\site-packages (from ipywidgets) (3.0.11)\n",
      "Requirement already satisfied: decorator in c:\\users\\daniel\\appdata\\roaming\\python\\python312\\site-packages (from ipython>=6.1.0->ipywidgets) (5.1.1)\n",
      "Requirement already satisfied: jedi>=0.16 in c:\\users\\daniel\\appdata\\roaming\\python\\python312\\site-packages (from ipython>=6.1.0->ipywidgets) (0.19.1)\n",
      "Requirement already satisfied: matplotlib-inline in c:\\users\\daniel\\appdata\\roaming\\python\\python312\\site-packages (from ipython>=6.1.0->ipywidgets) (0.1.7)\n",
      "Requirement already satisfied: prompt-toolkit<3.1.0,>=3.0.41 in c:\\users\\daniel\\appdata\\roaming\\python\\python312\\site-packages (from ipython>=6.1.0->ipywidgets) (3.0.47)\n",
      "Requirement already satisfied: pygments>=2.4.0 in c:\\users\\daniel\\appdata\\roaming\\python\\python312\\site-packages (from ipython>=6.1.0->ipywidgets) (2.18.0)\n",
      "Requirement already satisfied: stack-data in c:\\users\\daniel\\appdata\\roaming\\python\\python312\\site-packages (from ipython>=6.1.0->ipywidgets) (0.6.3)\n",
      "Requirement already satisfied: colorama in c:\\users\\daniel\\appdata\\roaming\\python\\python312\\site-packages (from ipython>=6.1.0->ipywidgets) (0.4.6)\n",
      "Requirement already satisfied: parso<0.9.0,>=0.8.3 in c:\\users\\daniel\\appdata\\roaming\\python\\python312\\site-packages (from jedi>=0.16->ipython>=6.1.0->ipywidgets) (0.8.4)\n",
      "Requirement already satisfied: wcwidth in c:\\users\\daniel\\appdata\\roaming\\python\\python312\\site-packages (from prompt-toolkit<3.1.0,>=3.0.41->ipython>=6.1.0->ipywidgets) (0.2.13)\n",
      "Requirement already satisfied: executing>=1.2.0 in c:\\users\\daniel\\appdata\\roaming\\python\\python312\\site-packages (from stack-data->ipython>=6.1.0->ipywidgets) (2.0.1)\n",
      "Requirement already satisfied: asttokens>=2.1.0 in c:\\users\\daniel\\appdata\\roaming\\python\\python312\\site-packages (from stack-data->ipython>=6.1.0->ipywidgets) (2.4.1)\n",
      "Requirement already satisfied: pure-eval in c:\\users\\daniel\\appdata\\roaming\\python\\python312\\site-packages (from stack-data->ipython>=6.1.0->ipywidgets) (0.2.2)\n",
      "Requirement already satisfied: six>=1.12.0 in c:\\users\\daniel\\appdata\\roaming\\python\\python312\\site-packages (from asttokens>=2.1.0->stack-data->ipython>=6.1.0->ipywidgets) (1.16.0)\n",
      "Note: you may need to restart the kernel to use updated packages.\n"
     ]
    },
    {
     "name": "stderr",
     "output_type": "stream",
     "text": [
      "\n",
      "[notice] A new release of pip is available: 24.0 -> 24.1\n",
      "[notice] To update, run: python.exe -m pip install --upgrade pip\n"
     ]
    }
   ],
   "source": [
    "%pip install ipywidgets"
   ]
  },
  {
   "cell_type": "markdown",
   "metadata": {},
   "source": [
    "# **Importings**"
   ]
  },
  {
   "cell_type": "code",
   "execution_count": 5,
   "metadata": {},
   "outputs": [],
   "source": [
    "import getpass\n",
    "import os\n",
    "from langchain_google_genai import ChatGoogleGenerativeAI\n",
    "\n",
    "\n",
    "if \"GOOGLE_API_KEY\" not in os.environ:\n",
    "    os.environ[\"GOOGLE_API_KEY\"] = getpass.getpass(\"Provide Gemini API Key: \")"
   ]
  },
  {
   "cell_type": "markdown",
   "metadata": {},
   "source": [
    "# **Start Gemini**\n",
    "Documentation mentions model \"gemini-pro\". But I am using gemini-1.5-flash as it has more tokens and allows a maximum of 15 requisition per minute (See [Gemini Pricing](https://ai.google.dev/pricing?hl=es-419))"
   ]
  },
  {
   "cell_type": "code",
   "execution_count": 2,
   "metadata": {},
   "outputs": [],
   "source": [
    "llm = ChatGoogleGenerativeAI(model=\"gemini-1.5-flash\")"
   ]
  },
  {
   "cell_type": "markdown",
   "metadata": {},
   "source": [
    "### **Basic Chat**\n",
    "Example of a basic chat using ```invoke``` method"
   ]
  },
  {
   "cell_type": "code",
   "execution_count": 6,
   "metadata": {},
   "outputs": [
    {
     "data": {
      "text/markdown": [
       "Here are some ways to congratulate someone on their first job, depending on your relationship with them:\n",
       "\n",
       "**Formal:**\n",
       "\n",
       "* \"Congratulations on landing your first job! I'm sure you'll do great.\"\n",
       "* \"I was so happy to hear about your new position. Best of luck in your new role.\"\n",
       "* \"This is a wonderful accomplishment. I'm excited for you to begin this new chapter.\"\n",
       "\n",
       "**Informal:**\n",
       "\n",
       "* \"Woohoo! Congrats on the new job! You've worked so hard for this.\"\n",
       "* \"That's awesome! I'm so proud of you for getting your first job.\"\n",
       "* \"I'm so excited for you! What are you most looking forward to?\"\n",
       "* \"You're going to kill it! I know you'll do amazing things.\"\n",
       "\n",
       "**Adding a personal touch:**\n",
       "\n",
       "* \"I remember when I got my first job – it was so exciting! I hope you have a similar experience.\"\n",
       "* \"I'm so impressed with how hard you've been working. This is well-deserved.\"\n",
       "* \"I'm so proud of you for taking this step. I know you're going to learn a lot and grow in this role.\"\n",
       "\n",
       "**For a close friend or family member:**\n",
       "\n",
       "* \"I'm so happy for you! This is such a big deal, and I'm so excited for you to start this new adventure.\"\n",
       "* \"I can't wait to hear all about your first day! Let's celebrate soon.\"\n",
       "* \"I know you're going to do amazing things. You're so talented and capable.\"\n",
       "\n",
       "**Remember to also ask them about their new job:**\n",
       "\n",
       "* \"What kind of work will you be doing?\"\n",
       "* \"What are you most looking forward to about this new job?\"\n",
       "* \"Where is the company located?\"\n",
       "\n",
       "**No matter how you choose to congratulate them, make sure your message is genuine and heartfelt. This is a big milestone for them, and they'll appreciate your support.** \n"
      ],
      "text/plain": [
       "<IPython.core.display.Markdown object>"
      ]
     },
     "execution_count": 6,
     "metadata": {},
     "output_type": "execute_result"
    }
   ],
   "source": [
    "result = llm.invoke(\"What is a good way to congratulate someone because they got their first job\")\n",
    "md(result.content)"
   ]
  },
  {
   "cell_type": "markdown",
   "metadata": {},
   "source": [
    "### **Gemini Basic Chat Streaming**\n",
    "Receive Gemini answer in chunks by using ```stream``` method.\n",
    "\n",
    "_Cannot print in markdown when using streaming_"
   ]
  },
  {
   "cell_type": "code",
   "execution_count": 8,
   "metadata": {},
   "outputs": [
    {
     "name": "stdout",
     "output_type": "stream",
     "text": [
      "##\n",
      " 2 Egg Recipes:\n",
      "\n",
      "**Breakfast & Brunch:**\n",
      "\n",
      "* **Scrambled\n",
      " Eggs:** Classic and versatile, add your favorite veggies and cheese.\n",
      "* **\n",
      "Omelette:** A single-egg omelette is perfect for a light breakfast.\n",
      "* **Fried Eggs:** Sunny-side up, over easy, or hard-\n",
      "boiled, fried eggs are quick and satisfying.\n",
      "* **Egg in a Hole:** A fun and easy way to use bread and an egg.\n",
      "* **\n",
      "Egg Salad:** A classic sandwich filling, perfect for lunch or a snack.\n",
      "* **Deviled Eggs:** A party favorite, make them with classic or creative toppings.\n",
      "\n",
      "**Dinner & Lunch:**\n",
      "\n",
      "* **Egg Drop Soup:** A\n",
      " light and flavorful soup, perfect for a cold night.\n",
      "* **Egg Fried Rice:** A quick and easy meal, perfect for using up leftovers.\n",
      "* **Stir-Fried Noodles with Egg:** A flavorful and satisfying dish, perfect for\n",
      " lunch or dinner.\n",
      "* **Eggplant & Egg Curry:** A delicious and hearty vegetarian curry.\n",
      "* **Pasta Carbonara:** A creamy and cheesy pasta dish, using eggs as a base for the sauce.\n",
      "\n",
      "**Sweet Treats:**\n",
      "\n",
      "* **Custard:** A classic dessert, perfect for using up extra egg\n",
      " yolks.\n",
      "* **Flan:** A rich and creamy dessert, perfect for a special occasion.\n",
      "* **Angel Food Cake:** A light and airy cake, perfect for a summer dessert.\n",
      "\n",
      "**Other:**\n",
      "\n",
      "* **Mayonnaise:** Make your own homemade mayonnaise with just two eggs.\n",
      "* **Egg Wash:**\n",
      " Use beaten eggs to brush pastries and breads for a golden-brown finish.\n",
      "\n",
      "**Tips:**\n",
      "\n",
      "* Use fresh eggs for the best flavor and texture.\n",
      "* Store eggs in the refrigerator for optimal freshness.\n",
      "* Crack eggs one at a time to avoid contamination.\n",
      "* Don't overcook eggs, as\n",
      " they can become rubbery.\n",
      "* Be creative and experiment with different flavors and ingredients.\n",
      "\n",
      "**Enjoy!** \n",
      "\n"
     ]
    }
   ],
   "source": [
    "for chuck in llm.stream(\"Give me recipies ideas on what to do with 2 eggs\"):\n",
    "    print(chuck.content)"
   ]
  }
 ],
 "metadata": {
  "kernelspec": {
   "display_name": "Python 3",
   "language": "python",
   "name": "python3"
  },
  "language_info": {
   "codemirror_mode": {
    "name": "ipython",
    "version": 3
   },
   "file_extension": ".py",
   "mimetype": "text/x-python",
   "name": "python",
   "nbconvert_exporter": "python",
   "pygments_lexer": "ipython3",
   "version": "3.12.4"
  }
 },
 "nbformat": 4,
 "nbformat_minor": 2
}
