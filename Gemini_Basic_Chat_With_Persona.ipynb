{
 "cells": [
  {
   "cell_type": "markdown",
   "metadata": {},
   "source": [
    "## **Install google-generativeai**"
   ]
  },
  {
   "cell_type": "code",
   "execution_count": 2,
   "metadata": {},
   "outputs": [
    {
     "name": "stdout",
     "output_type": "stream",
     "text": [
      "Requirement already satisfied: google-generativeai in c:\\users\\daniel\\appdata\\local\\programs\\python\\python312\\lib\\site-packages (0.5.4)\n",
      "Requirement already satisfied: google-ai-generativelanguage==0.6.4 in c:\\users\\daniel\\appdata\\local\\programs\\python\\python312\\lib\\site-packages (from google-generativeai) (0.6.4)\n",
      "Requirement already satisfied: google-api-core in c:\\users\\daniel\\appdata\\local\\programs\\python\\python312\\lib\\site-packages (from google-generativeai) (2.19.0)\n",
      "Requirement already satisfied: google-api-python-client in c:\\users\\daniel\\appdata\\local\\programs\\python\\python312\\lib\\site-packages (from google-generativeai) (2.134.0)\n",
      "Requirement already satisfied: google-auth>=2.15.0 in c:\\users\\daniel\\appdata\\local\\programs\\python\\python312\\lib\\site-packages (from google-generativeai) (2.30.0)\n",
      "Requirement already satisfied: protobuf in c:\\users\\daniel\\appdata\\local\\programs\\python\\python312\\lib\\site-packages (from google-generativeai) (4.25.3)\n",
      "Requirement already satisfied: pydantic in c:\\users\\daniel\\appdata\\local\\programs\\python\\python312\\lib\\site-packages (from google-generativeai) (2.7.4)\n",
      "Requirement already satisfied: tqdm in c:\\users\\daniel\\appdata\\local\\programs\\python\\python312\\lib\\site-packages (from google-generativeai) (4.66.4)\n",
      "Requirement already satisfied: typing-extensions in c:\\users\\daniel\\appdata\\local\\programs\\python\\python312\\lib\\site-packages (from google-generativeai) (4.12.2)\n",
      "Requirement already satisfied: proto-plus<2.0.0dev,>=1.22.3 in c:\\users\\daniel\\appdata\\local\\programs\\python\\python312\\lib\\site-packages (from google-ai-generativelanguage==0.6.4->google-generativeai) (1.24.0)\n",
      "Requirement already satisfied: googleapis-common-protos<2.0.dev0,>=1.56.2 in c:\\users\\daniel\\appdata\\local\\programs\\python\\python312\\lib\\site-packages (from google-api-core->google-generativeai) (1.63.1)\n",
      "Requirement already satisfied: requests<3.0.0.dev0,>=2.18.0 in c:\\users\\daniel\\appdata\\local\\programs\\python\\python312\\lib\\site-packages (from google-api-core->google-generativeai) (2.32.3)\n",
      "Requirement already satisfied: cachetools<6.0,>=2.0.0 in c:\\users\\daniel\\appdata\\local\\programs\\python\\python312\\lib\\site-packages (from google-auth>=2.15.0->google-generativeai) (5.3.3)\n",
      "Requirement already satisfied: pyasn1-modules>=0.2.1 in c:\\users\\daniel\\appdata\\local\\programs\\python\\python312\\lib\\site-packages (from google-auth>=2.15.0->google-generativeai) (0.4.0)\n",
      "Requirement already satisfied: rsa<5,>=3.1.4 in c:\\users\\daniel\\appdata\\local\\programs\\python\\python312\\lib\\site-packages (from google-auth>=2.15.0->google-generativeai) (4.9)\n",
      "Requirement already satisfied: httplib2<1.dev0,>=0.19.0 in c:\\users\\daniel\\appdata\\local\\programs\\python\\python312\\lib\\site-packages (from google-api-python-client->google-generativeai) (0.22.0)\n",
      "Requirement already satisfied: google-auth-httplib2<1.0.0,>=0.2.0 in c:\\users\\daniel\\appdata\\local\\programs\\python\\python312\\lib\\site-packages (from google-api-python-client->google-generativeai) (0.2.0)\n",
      "Requirement already satisfied: uritemplate<5,>=3.0.1 in c:\\users\\daniel\\appdata\\local\\programs\\python\\python312\\lib\\site-packages (from google-api-python-client->google-generativeai) (4.1.1)\n",
      "Requirement already satisfied: annotated-types>=0.4.0 in c:\\users\\daniel\\appdata\\local\\programs\\python\\python312\\lib\\site-packages (from pydantic->google-generativeai) (0.7.0)\n",
      "Requirement already satisfied: pydantic-core==2.18.4 in c:\\users\\daniel\\appdata\\local\\programs\\python\\python312\\lib\\site-packages (from pydantic->google-generativeai) (2.18.4)\n",
      "Requirement already satisfied: colorama in c:\\users\\daniel\\appdata\\roaming\\python\\python312\\site-packages (from tqdm->google-generativeai) (0.4.6)\n",
      "Requirement already satisfied: grpcio<2.0dev,>=1.33.2 in c:\\users\\daniel\\appdata\\local\\programs\\python\\python312\\lib\\site-packages (from google-api-core[grpc]!=2.0.*,!=2.1.*,!=2.10.*,!=2.2.*,!=2.3.*,!=2.4.*,!=2.5.*,!=2.6.*,!=2.7.*,!=2.8.*,!=2.9.*,<3.0.0dev,>=1.34.1->google-ai-generativelanguage==0.6.4->google-generativeai) (1.64.1)\n",
      "Requirement already satisfied: grpcio-status<2.0.dev0,>=1.33.2 in c:\\users\\daniel\\appdata\\local\\programs\\python\\python312\\lib\\site-packages (from google-api-core[grpc]!=2.0.*,!=2.1.*,!=2.10.*,!=2.2.*,!=2.3.*,!=2.4.*,!=2.5.*,!=2.6.*,!=2.7.*,!=2.8.*,!=2.9.*,<3.0.0dev,>=1.34.1->google-ai-generativelanguage==0.6.4->google-generativeai) (1.62.2)\n",
      "Requirement already satisfied: pyparsing!=3.0.0,!=3.0.1,!=3.0.2,!=3.0.3,<4,>=2.4.2 in c:\\users\\daniel\\appdata\\local\\programs\\python\\python312\\lib\\site-packages (from httplib2<1.dev0,>=0.19.0->google-api-python-client->google-generativeai) (3.1.2)\n",
      "Requirement already satisfied: pyasn1<0.7.0,>=0.4.6 in c:\\users\\daniel\\appdata\\local\\programs\\python\\python312\\lib\\site-packages (from pyasn1-modules>=0.2.1->google-auth>=2.15.0->google-generativeai) (0.6.0)\n",
      "Requirement already satisfied: charset-normalizer<4,>=2 in c:\\users\\daniel\\appdata\\local\\programs\\python\\python312\\lib\\site-packages (from requests<3.0.0.dev0,>=2.18.0->google-api-core->google-generativeai) (3.3.2)\n",
      "Requirement already satisfied: idna<4,>=2.5 in c:\\users\\daniel\\appdata\\local\\programs\\python\\python312\\lib\\site-packages (from requests<3.0.0.dev0,>=2.18.0->google-api-core->google-generativeai) (3.7)\n",
      "Requirement already satisfied: urllib3<3,>=1.21.1 in c:\\users\\daniel\\appdata\\local\\programs\\python\\python312\\lib\\site-packages (from requests<3.0.0.dev0,>=2.18.0->google-api-core->google-generativeai) (2.2.1)\n",
      "Requirement already satisfied: certifi>=2017.4.17 in c:\\users\\daniel\\appdata\\local\\programs\\python\\python312\\lib\\site-packages (from requests<3.0.0.dev0,>=2.18.0->google-api-core->google-generativeai) (2024.6.2)\n",
      "Note: you may need to restart the kernel to use updated packages.\n"
     ]
    },
    {
     "name": "stderr",
     "output_type": "stream",
     "text": [
      "\n",
      "[notice] A new release of pip is available: 24.0 -> 24.1\n",
      "[notice] To update, run: python.exe -m pip install --upgrade pip\n"
     ]
    }
   ],
   "source": [
    "%pip install google-generativeai"
   ]
  },
  {
   "cell_type": "markdown",
   "metadata": {},
   "source": [
    "## **Imports and validate GEMINI_API_KEY**\n",
    "Get API key from [Obtain an API Key](https://aistudio.google.com/app/apikey)"
   ]
  },
  {
   "cell_type": "code",
   "execution_count": 10,
   "metadata": {},
   "outputs": [],
   "source": [
    "import os\n",
    "import getpass\n",
    "import google.generativeai as genai\n",
    "from IPython.display import Markdown as md\n",
    "\n",
    "if \"GEMINI_API_KEY\" not in os.environ:\n",
    "    os.environ[\"GEMINI_API_KEY\"] = getpass.getpass(\"Provide Gemini API Key: \")\n",
    "\n",
    "\n",
    "genai.configure(api_key=os.environ[\"GEMINI_API_KEY\"])"
   ]
  },
  {
   "cell_type": "markdown",
   "metadata": {},
   "source": [
    "# **Initial config**\n",
    "This config tells the parameters that Gemini will take to answer you back. \n",
    "\n",
    "In this case it contains the following:\n",
    "- **temperature**: Refers to the creativeness that we will allow the model to take. It ranges from 0.0 to 1.0 (0.5 would be in the middle)\n",
    " - **top_p**: _Not sure of its meaning_\n",
    " - **top_k**: _Not sure of its meaning_\n",
    " - **max_output_tokens**: The maximum token amount allowed for the AI to answer\n",
    " - **response_mime_type**: The format that the answer will be received"
   ]
  },
  {
   "cell_type": "code",
   "execution_count": 6,
   "metadata": {},
   "outputs": [],
   "source": [
    "generation_config = {\n",
    "  \"temperature\": 1,\n",
    "  \"top_p\": 0.95,\n",
    "  \"top_k\": 64,\n",
    "  \"max_output_tokens\": 8192,\n",
    "  \"response_mime_type\": \"text/plain\",\n",
    "}"
   ]
  },
  {
   "cell_type": "markdown",
   "metadata": {},
   "source": [
    "## **Create the model Object**\n",
    "To create the model object you can define the next parameters:\n",
    "- **model_name**: Refers to the model that'll be used, in this case _gemini-1.5-flash_\n",
    "- **generation_config**: Defined in previous cell\n",
    "- **system_instruction**: _(Is not required)_ | Tells instructions on what you expect the GEMINI to do. I often call this Persona | _Gemini-Pro-1.0 does not support this feature_\n",
    "\n",
    "For ```system_instruction``` I have defined the next:\n",
    "\n",
    ">You are a powerfull assistant that is an expert on any programming language, your task is to help me documentate my code according to what I will send you. Documentation must be written in the appropiate comment syntax according to what I ask you.\\n\\nI will pass you context on which programming language is between ~~ charcters\\n\\nFor example: \\n\\nPrompt :\\n\\nDocumentate the next code. ~~Python~~\\n\\nimport os\\nimport getpass\\nimport google.generativeai as genai\\n\\nif \\\"GEMINI_API_KEY\\\" not in os.environ:\\n    os.environ[\\\"GEMINI_API_KEY\\\"] = getpass.getpass(\\\"Provide Gemini API Key: \\\")\\n\\nYour answer: \\n\\n#Imports OS to use os.Environ, getpass to writte hidden strings and google.generative ai to interact with Gemini\\nimport os\\nimport getpass\\nimport google.generativeai as genai\\n\\n#Validates if Gemini API key is inside the enviroment variables\\nif \\\"GEMINI_API_KEY\\\" not in os.environ:\\n    os.environ[\\\"GEMINI_API_KEY\\\"] = getpass.getpass(\\\"Provide Gemini API Key: \\\")"
   ]
  },
  {
   "cell_type": "code",
   "execution_count": 7,
   "metadata": {},
   "outputs": [],
   "source": [
    "model = genai.GenerativeModel(\n",
    "  model_name=\"gemini-1.5-flash\",\n",
    "  generation_config=generation_config,\n",
    "  # safety_settings = Adjust safety settings\n",
    "  # See https://ai.google.dev/gemini-api/docs/safety-settings\n",
    "  system_instruction=\"You are a powerfull assistant that is an expert on any programming language, your task is to help me documentate my code according to what I will send you. Documentation must be written in the appropiate comment syntax according to what I ask you.\\n\\nI will pass you context on which programming language is between ~~ charcters\\n\\nFor example: \\n\\nPrompt :\\n\\nDocumentate the next code. ~~Python~~\\n\\nimport os\\nimport getpass\\nimport google.generativeai as genai\\n\\nif \\\"GEMINI_API_KEY\\\" not in os.environ:\\n    os.environ[\\\"GEMINI_API_KEY\\\"] = getpass.getpass(\\\"Provide Gemini API Key: \\\")\\n\\nYour answer: \\n\\n#Imports OS to use os.Environ, getpass to writte hidden strings and google.generative ai to interact with Gemini\\nimport os\\nimport getpass\\nimport google.generativeai as genai\\n\\n#Validates if Gemini API key is inside the enviroment variables\\nif \\\"GEMINI_API_KEY\\\" not in os.environ:\\n    os.environ[\\\"GEMINI_API_KEY\\\"] = getpass.getpass(\\\"Provide Gemini API Key: \\\")\",\n",
    ")"
   ]
  },
  {
   "cell_type": "markdown",
   "metadata": {},
   "source": [
    "## **Start prompting!**\n"
   ]
  },
  {
   "cell_type": "code",
   "execution_count": 11,
   "metadata": {},
   "outputs": [
    {
     "data": {
      "text/markdown": [
       "```C#\n",
       "/// <summary>\n",
       "/// This method sums two double values and returns the result.\n",
       "/// </summary>\n",
       "/// <param name=\"a\">The first number to be summed.</param>\n",
       "/// <param name=\"b\">The second number to be summed.</param>\n",
       "/// <returns>The sum of the two input numbers.</returns>\n",
       "public double SumNumbers(double a, double b){\n",
       "    return a + b;\n",
       "}\n",
       "```"
      ],
      "text/plain": [
       "<IPython.core.display.Markdown object>"
      ]
     },
     "execution_count": 11,
     "metadata": {},
     "output_type": "execute_result"
    }
   ],
   "source": [
    "chat_session = model.start_chat(\n",
    "  history=[\n",
    "  ]\n",
    ")\n",
    "\n",
    "prompt = \"\"\"\n",
    "Documentate the next code ~~C#~~\n",
    "\n",
    "public double SumNumbers(double a, double b){\n",
    "    return a + b;\n",
    "}\n",
    "\n",
    "\"\"\"\n",
    "\n",
    "response = chat_session.send_message(prompt)\n",
    "\n",
    "md(response.text)"
   ]
  }
 ],
 "metadata": {
  "kernelspec": {
   "display_name": "Python 3",
   "language": "python",
   "name": "python3"
  },
  "language_info": {
   "codemirror_mode": {
    "name": "ipython",
    "version": 3
   },
   "file_extension": ".py",
   "mimetype": "text/x-python",
   "name": "python",
   "nbconvert_exporter": "python",
   "pygments_lexer": "ipython3",
   "version": "3.12.4"
  }
 },
 "nbformat": 4,
 "nbformat_minor": 2
}
