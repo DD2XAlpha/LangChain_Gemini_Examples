{
 "cells": [
  {
   "cell_type": "markdown",
   "metadata": {},
   "source": [
    "# **Install next libraries**"
   ]
  },
  {
   "cell_type": "code",
   "execution_count": 1,
   "metadata": {},
   "outputs": [
    {
     "name": "stdout",
     "output_type": "stream",
     "text": [
      "Note: you may need to restart the kernel to use updated packages.\n"
     ]
    },
    {
     "name": "stderr",
     "output_type": "stream",
     "text": [
      "\n",
      "[notice] A new release of pip is available: 24.0 -> 24.1\n",
      "[notice] To update, run: python.exe -m pip install --upgrade pip\n"
     ]
    }
   ],
   "source": [
    "%pip install --quiet langchain-google-genai pillow langchain-community pypdf faiss-cpu langchain-core"
   ]
  },
  {
   "cell_type": "markdown",
   "metadata": {},
   "source": [
    "# **Importings**"
   ]
  },
  {
   "cell_type": "code",
   "execution_count": 2,
   "metadata": {},
   "outputs": [],
   "source": [
    "import os\n",
    "import getpass\n",
    "from langchain_google_genai import ChatGoogleGenerativeAI, GoogleGenerativeAIEmbeddings\n",
    "from langchain.document_loaders import PyPDFLoader\n",
    "from langchain.vectorstores import FAISS\n",
    "from IPython.display import Markdown as md\n",
    "from langchain_core.prompts import ChatPromptTemplate\n",
    "from langchain_core.output_parsers import StrOutputParser\n",
    "from langchain_core.runnables import RunnableParallel, RunnablePassthrough"
   ]
  },
  {
   "cell_type": "code",
   "execution_count": 3,
   "metadata": {},
   "outputs": [],
   "source": [
    "if \"GOOGLE_API_KEY\" not in os.environ:\n",
    "    os.environ[\"GOOGLE_API_KEY\"] = getpass.getpass(\"Provide Gemini API Key: \")"
   ]
  },
  {
   "cell_type": "code",
   "execution_count": 4,
   "metadata": {},
   "outputs": [],
   "source": [
    "llm = ChatGoogleGenerativeAI(model=\"gemini-1.5-flash\")"
   ]
  },
  {
   "cell_type": "code",
   "execution_count": 5,
   "metadata": {},
   "outputs": [],
   "source": [
    "class PDFReader:\n",
    "    def __init__(self, pdf_path):\n",
    "        self.pdf_path = pdf_path\n",
    "\n",
    "    def GetPages(self):\n",
    "        loader = PyPDFLoader(self.pdf_path)\n",
    "        return loader.load_and_split()\n",
    "    \n",
    "    def CreateFAISSIndex(self):\n",
    "        vector_db = FAISS.from_documents(self.GetPages(), GoogleGenerativeAIEmbeddings(model=\"models/embedding-001\"))\n",
    "        return vector_db"
   ]
  },
  {
   "cell_type": "code",
   "execution_count": 10,
   "metadata": {},
   "outputs": [],
   "source": [
    "pdf_file = PDFReader(\"pdf/example1.pdf\")\n",
    "db = pdf_file.CreateFAISSIndex()\n",
    "#docs = db.similarity_search(\"Que es el liquido sinovial?\", k=10)\n",
    "#for doc in docs:\n",
    "#    print(str(doc.metadata[\"page\"]) + \":\", doc.page_content[:300])"
   ]
  },
  {
   "cell_type": "code",
   "execution_count": 11,
   "metadata": {},
   "outputs": [],
   "source": [
    "TEMPLATE = \"\"\" \n",
    "Answer the question based only on the following context:\n",
    "{context}\n",
    "\n",
    "Question: {question}\n",
    "\"\"\""
   ]
  },
  {
   "cell_type": "code",
   "execution_count": 19,
   "metadata": {},
   "outputs": [
    {
     "data": {
      "text/markdown": [
       "El líquido sinovial tiene las siguientes funciones:\n",
       "\n",
       "* **Nutrición del cartílago articular:** El líquido sinovial se encarga de llevar nutrientes al cartílago, que no tiene vasos sanguíneos propios.\n",
       "* **Eliminación de desechos:** El líquido sinovial también elimina los desechos que se producen en el cartílago.\n",
       "* **Función protectora:** El líquido sinovial es viscoso, lo que ayuda a reducir la fricción entre los cartílagos durante el movimiento. También sirve como amortiguador para proteger la articulación de impactos. \n"
      ],
      "text/plain": [
       "<IPython.core.display.Markdown object>"
      ]
     },
     "execution_count": 19,
     "metadata": {},
     "output_type": "execute_result"
    }
   ],
   "source": [
    "prompt_template = ChatPromptTemplate.from_template(TEMPLATE)\n",
    "retriever = db.as_retriever()\n",
    "parser = StrOutputParser()\n",
    "setup_and_retrieval = RunnableParallel({\n",
    "    \"context\" : retriever, \"question\" : RunnablePassthrough()\n",
    "})\n",
    "chain = setup_and_retrieval | prompt_template | llm | parser\n",
    "md(chain.invoke(\"Cuales son las funciones del liquido sinovial?\"))"
   ]
  }
 ],
 "metadata": {
  "kernelspec": {
   "display_name": "Python 3",
   "language": "python",
   "name": "python3"
  },
  "language_info": {
   "codemirror_mode": {
    "name": "ipython",
    "version": 3
   },
   "file_extension": ".py",
   "mimetype": "text/x-python",
   "name": "python",
   "nbconvert_exporter": "python",
   "pygments_lexer": "ipython3",
   "version": "3.12.4"
  }
 },
 "nbformat": 4,
 "nbformat_minor": 2
}
